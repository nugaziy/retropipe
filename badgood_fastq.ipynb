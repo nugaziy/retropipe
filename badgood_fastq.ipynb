{
 "cells": [
  {
   "cell_type": "code",
   "execution_count": null,
   "metadata": {
    "collapsed": false
   },
   "outputs": [],
   "source": [
    "#################################\n",
    "# Raw FASTQ files preprocessing #\n",
    "#################################\n",
    "# \n",
    "# (Latest) library structure (may be changed):\n",
    "# [Alu primer - 12 bp][Alu sequence - 6 bp][Flank][Adapter 1 - 10 bp][Adapter 2, barcode - 9 bp][Adapter3 - 12 bp]\n",
    "# \n",
    "# R1: alu primer mate\n",
    "# R2: adapter mate\n",
    "# \n",
    "# \n",
    "# Steps:\n",
    "# - separate reads into good and bad, depending on the mistake in the primers, the adapter\n",
    "#                                                                            and wrong elements in flanks\n",
    "#     (as well as keeps barcodes good reads in the file for good R2 and location of mistake in the file bad R1)\n",
    "\n",
    "# Import module (main code)\n",
    "import trimmR\n",
    "\n",
    "# Variable parameters\n",
    "#################################\n",
    "# The number of permissible error:\n",
    "mist = 1\n",
    "# Primer, ad1 = Adapter 1, ad2 = Adapter 3 (aka Green)\n",
    "primer = 'GAGCCACCGCGC'\n",
    "ad1 = 'GCGTGCTGCGG'\n",
    "ad2 = 'AGGGCGGT'\n",
    "# Length of barcode\n",
    "barlen = 9\n",
    "# List of wrong elements in flank\n",
    "elem_remove = ['ACGT']\n",
    "\n",
    "# Input FASTQ files folder path.\n",
    "inputdir = '~/data'\n",
    "# Output folder for processed FASTQ files.\n",
    "outputdir = '~/data/processed'\n",
    "#################################\n",
    "\n",
    "# Main function\n",
    "trimmR.main(inputdir, outputdir, mist, primer, ad1, ad2, barlen, elem_remove)"
   ]
  },
  {
   "cell_type": "code",
   "execution_count": null,
   "metadata": {
    "collapsed": false,
    "scrolled": true
   },
   "outputs": [],
   "source": [
    "#################################\n",
    "# Filtered FASTQ files to SAM files  #\n",
    "#################################\n",
    "# \n",
    "# You can see more options for bwa mem on http://bio-bwa.sourceforge.net/bwa.shtml\n",
    "#\n",
    "# Steps:\n",
    "# - run bwa mem (mapping on human genome) with all paired FASTQ in folder.\n",
    "\n",
    "# Import module (main code)\n",
    "import bwamemR\n",
    "\n",
    "# Variable parameters\n",
    "#################################\n",
    "# Input FASTQ files folder path.\n",
    "inputdir = '~/data'\n",
    "# Output folder for processed SAM files.\n",
    "outputdir = '~/data/processed'\n",
    "# Folder with indexed human genome (by bwa index). Name - name of indexed human genome without extension\n",
    "refway = '~/data/name'\n",
    "# Main part of bwa mem program. You can add options.\n",
    "memline = 'bwa mem'\n",
    "#################################\n",
    "\n",
    "# Main function\n",
    "bwamemR.main(inputdir, refway, outputdir, memline)"
   ]
  },
  {
   "cell_type": "code",
   "execution_count": null,
   "metadata": {
    "collapsed": false
   },
   "outputs": [],
   "source": [
    "#################################\n",
    "# SAM files filtering           #\n",
    "#################################\n",
    "# \n",
    "# Steps:\n",
    "# - filtering sam files. Reads must be mapped, paired and not duplicated. GOOD reads write in table with\n",
    "#    columns names:\n",
    "#         ID CHR STRAND START END READ1 READ2 BARCODE ALU CIGAR_R1 CIGAR_R2 MDFLAG_R1 MDFLAG_R2\n",
    "#    and BAD reads write in new sam file.\n",
    "\n",
    "# Import module (main code)\n",
    "import samfilterR\n",
    "\n",
    "# Variable parameters\n",
    "#################################\n",
    "# Input SAM files folder path.\n",
    "inputdir = '~/data'\n",
    "# Output folder for processed SAM files.\n",
    "outputdir = '~/data/processed'\n",
    "#################################\n",
    "\n",
    "# Main function\n",
    "samfilterR.main(inputdir, outputdir)"
   ]
  },
  {
   "cell_type": "code",
   "execution_count": null,
   "metadata": {
    "collapsed": false,
    "scrolled": true
   },
   "outputs": [],
   "source": [
    "#################################\n",
    "# Tables clustering             #\n",
    "#################################\n",
    "# \n",
    "# Steps:\n",
    "# - clustering reads in tables by distance. Create 2 new tables from 1 with headers:\n",
    "#       1) CLUSTER_ID CHR STRAND START END READ1_BEST ID_LIST CIGAR_BEST MDFLAG_BEST\n",
    "#       2) CLUSTER_ID BARCODE_LIST ALU_LIST\n",
    "\n",
    "# Import module (main code)\n",
    "import bigtableR\n",
    "\n",
    "# Variable parameters\n",
    "#################################\n",
    "# Input SAM files folder path.\n",
    "inputdir = '~/data'\n",
    "# Output folder for processed SAM files.\n",
    "outputdir = '~/data/processed'\n",
    "# Distance (in bp) for clustering reads\n",
    "perm_gap = 1000000\n",
    "#################################\n",
    "\n",
    "# Main function\n",
    "bigtableR.main(inputdir, outputdir, perm_gap)"
   ]
  }
 ],
 "metadata": {
  "kernelspec": {
   "display_name": "Python 3",
   "language": "python",
   "name": "python3"
  },
  "language_info": {
   "codemirror_mode": {
    "name": "ipython",
    "version": 3
   },
   "file_extension": ".py",
   "mimetype": "text/x-python",
   "name": "python",
   "nbconvert_exporter": "python",
   "pygments_lexer": "ipython3",
   "version": "3.4.3"
  }
 },
 "nbformat": 4,
 "nbformat_minor": 0
}
